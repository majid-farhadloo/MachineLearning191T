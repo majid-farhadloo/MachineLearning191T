{
 "cells": [
  {
   "cell_type": "code",
   "execution_count": 1,
   "metadata": {},
   "outputs": [],
   "source": [
    "from __future__ import division, unicode_literals\n",
    "import math\n",
    "import pandas as pd"
   ]
  },
  {
   "cell_type": "code",
   "execution_count": 2,
   "metadata": {},
   "outputs": [],
   "source": [
    "Concept = [(1, 1), (1, 2), (1, 3), (2, 1),  (2, 2),  (2, 5), \n",
    "  (2, 6), (2, 7), (3, 5), (3, 6),(5, 3), (5, 5),  (5, 6), (5, 7),  (6, 3),  (6, 5),  (6, 6), (6, 7),\n",
    "   (7, 3),  (7, 5), (7, 6), (7, 7), (8, 3),  (8, 5),  (8, 6), (8, 7), \n",
    "   (9, 3),  (9, 5), (9, 6), (9, 7)]\n",
    "########################################################################\n",
    "Positive = [(1, 1), (1, 2), (1, 3), (2, 1),  (2, 2),  (2, 5), \n",
    "  (2, 6), (2, 7), (3, 5), (3, 6)]\n",
    "########################################################################\n",
    "Negative = [ (5, 3), (5, 5),  (5, 6), (5, 7),  (6, 3),  (6, 5),  (6, 6), (6, 7),\n",
    "   (7, 3),  (7, 5), (7, 6), (7, 7),  (8, 3),  (8, 5),  (8, 6), (8, 7), \n",
    "   (9, 3),  (9, 5), (9, 6), (9, 7)]\n",
    "########################################################################\n",
    "NPositive = 10\n",
    "NNegative = 20"
   ]
  },
  {
   "cell_type": "code",
   "execution_count": 3,
   "metadata": {},
   "outputs": [],
   "source": [
    "Gini = lambda Pl: sum([p * (1-p) for p in Pl])\n",
    "Enthropy = lambda Pl: -sum([p * math.log(p, 2) if p else 0 for p in Pl])\n",
    "Probs = lambda L: [n/sum(L) for n in L]\n",
    "PHypothesis = lambda Pl,P2,Hypo : [(x,y) for (x,y) in Pl if y<Hypo and (x,y) in P2]\n",
    "NHypothesis = lambda Pl,P2,Hypo : [(x,y) for (x,y) in Pl if y>Hypo and (x,y) in P2]\n",
    "\n",
    "PHypo = lambda Pl,Hypo : [(x,y) for (x,y) in Pl if y<Hypo]\n",
    "NHypo = lambda Pl,Hypo : [(x,y) for (x,y) in Pl if y>Hypo]\n"
   ]
  },
  {
   "cell_type": "markdown",
   "metadata": {},
   "source": [
    "# Questions 1 & 2"
   ]
  },
  {
   "cell_type": "code",
   "execution_count": 4,
   "metadata": {},
   "outputs": [
    {
     "name": "stdout",
     "output_type": "stream",
     "text": [
      "Entropy is equal to: , 0.9182958340544896\n",
      "Gini is equal to: , 0.4444444444444445\n"
     ]
    }
   ],
   "source": [
    "List1 = [NPositive,NNegative]\n",
    "Probality1 = Probs(List1)\n",
    "#question 1:\n",
    "E1 = Enthropy(Probality1)\n",
    "#question 2:\n",
    "G1 = Gini(Probality1)\n",
    "print(\"Entropy is equal to: ,\", E1)\n",
    "print(\"Gini is equal to: ,\", G1)"
   ]
  },
  {
   "cell_type": "markdown",
   "metadata": {},
   "source": [
    "# Questions 3 & 4 & 5 & 6"
   ]
  },
  {
   "cell_type": "code",
   "execution_count": 5,
   "metadata": {},
   "outputs": [
    {
     "name": "stdout",
     "output_type": "stream",
     "text": [
      "True Positive:  5 ; True Negative:  15 \n",
      "False Positive: 5 ; False Negative 5\n"
     ]
    }
   ],
   "source": [
    "TP = len(PHypothesis(Concept,Positive,4))\n",
    "TN = len(NHypothesis(Concept,Negative,4))  \n",
    "FP = NPositive - TP\n",
    "FN = NNegative - TN\n",
    "print('True Positive: ',TP,'; True Negative: ', TN, '\\nFalse Positive:',FP,\n",
    "      '; False Negative',FN)\n"
   ]
  },
  {
   "cell_type": "code",
   "execution_count": 6,
   "metadata": {},
   "outputs": [],
   "source": [
    "Precision = lambda TP,FP : TP/(TP + FP)\n",
    "Recall = lambda TP,FN : TP/(TP + FN)"
   ]
  },
  {
   "cell_type": "markdown",
   "metadata": {},
   "source": [
    "# Question 7 & 8"
   ]
  },
  {
   "cell_type": "code",
   "execution_count": 7,
   "metadata": {},
   "outputs": [
    {
     "name": "stdout",
     "output_type": "stream",
     "text": [
      "Precision:  0.5 ,Recall:  0.5\n"
     ]
    }
   ],
   "source": [
    "precision = Precision(TP,FP)\n",
    "recall = Recall(TP,FN)\n",
    "print('Precision: ', precision, ',Recall: ', recall)"
   ]
  },
  {
   "cell_type": "markdown",
   "metadata": {},
   "source": [
    "# Question 9 & 10"
   ]
  },
  {
   "cell_type": "code",
   "execution_count": 8,
   "metadata": {},
   "outputs": [
    {
     "data": {
      "text/plain": [
       "0.044110417748401076"
      ]
     },
     "execution_count": 8,
     "metadata": {},
     "output_type": "execute_result"
    }
   ],
   "source": [
    "List1 = [5,5]\n",
    "Probality2 = Probs(List1)\n",
    "E2 = Enthropy(Probality2)\n",
    "List3 = [5,15]\n",
    "Probality3 = Probs(List3)\n",
    "E3 = Enthropy(Probality3)\n",
    "E4 = (10/30)*E2 + (20/30)*E3\n",
    "IG = E1 - E4\n",
    "IG"
   ]
  },
  {
   "cell_type": "code",
   "execution_count": 9,
   "metadata": {},
   "outputs": [
    {
     "data": {
      "text/plain": [
       "0.027777777777777846"
      ]
     },
     "execution_count": 9,
     "metadata": {},
     "output_type": "execute_result"
    }
   ],
   "source": [
    "List1 = [5,5]\n",
    "Probality2 = Probs(List1)\n",
    "G2 = Gini(Probality2)\n",
    "List3 = [5,15]\n",
    "Probality3 = Probs(List3)\n",
    "G3 = Gini(Probality3)\n",
    "G4 = (10/30)*G2 + (20/30)*G3\n",
    "IG = G1 - G4\n",
    "IG"
   ]
  },
  {
   "cell_type": "markdown",
   "metadata": {},
   "source": [
    "# Question 11 & 12 & 13 & 14 & 15 & 16 & 17"
   ]
  },
  {
   "cell_type": "code",
   "execution_count": 10,
   "metadata": {},
   "outputs": [],
   "source": [
    "Sigmoid = lambda y: 1.0/(1+math.exp(-y))"
   ]
  },
  {
   "cell_type": "code",
   "execution_count": 11,
   "metadata": {},
   "outputs": [],
   "source": [
    "# Hypothesis\n",
    "Y = lambda y: 4 - 1*y"
   ]
  },
  {
   "cell_type": "code",
   "execution_count": 12,
   "metadata": {},
   "outputs": [],
   "source": [
    "TPSigmoid = lambda Pl,P2 : [(x,y) for (x,y) in Pl if Sigmoid(Y(y))>0.5 and (x,y) in P2]"
   ]
  },
  {
   "cell_type": "code",
   "execution_count": 13,
   "metadata": {},
   "outputs": [
    {
     "data": {
      "text/plain": [
       "[(1, 1), (1, 2), (1, 3), (2, 1), (2, 2)]"
      ]
     },
     "execution_count": 13,
     "metadata": {},
     "output_type": "execute_result"
    }
   ],
   "source": [
    "# True Positive Sigmoid\n",
    "TPS =  TPSigmoid(Concept,Positive)\n",
    "TPS"
   ]
  },
  {
   "cell_type": "code",
   "execution_count": 14,
   "metadata": {},
   "outputs": [],
   "source": [
    "FPSigmoid = lambda Pl,P2 : [(x,y) for (x,y) in Pl if Sigmoid(Y(y))>0.5 and (x,y) not in P2]"
   ]
  },
  {
   "cell_type": "code",
   "execution_count": 15,
   "metadata": {},
   "outputs": [
    {
     "data": {
      "text/plain": [
       "[(5, 3), (6, 3), (7, 3), (8, 3), (9, 3)]"
      ]
     },
     "execution_count": 15,
     "metadata": {},
     "output_type": "execute_result"
    }
   ],
   "source": [
    "# False Positive Sigmoid\n",
    "FPS =  FPSigmoid(Concept,Positive)\n",
    "FPS"
   ]
  },
  {
   "cell_type": "code",
   "execution_count": 16,
   "metadata": {},
   "outputs": [
    {
     "data": {
      "text/plain": [
       "0.5"
      ]
     },
     "execution_count": 16,
     "metadata": {},
     "output_type": "execute_result"
    }
   ],
   "source": [
    "# precision out of the logistic regression\n",
    "PrecisionS = Precision(len(TPS), len(FPS))\n",
    "PrecisionS"
   ]
  },
  {
   "cell_type": "code",
   "execution_count": 17,
   "metadata": {},
   "outputs": [],
   "source": [
    "FNSigmoid = lambda Pl,P2 : [(x,y) for (x,y) in Pl if Sigmoid(Y(y))<0.5 and (x,y) not in P2]"
   ]
  },
  {
   "cell_type": "code",
   "execution_count": 18,
   "metadata": {},
   "outputs": [
    {
     "data": {
      "text/plain": [
       "5"
      ]
     },
     "execution_count": 18,
     "metadata": {},
     "output_type": "execute_result"
    }
   ],
   "source": [
    "# False Negative\n",
    "FNS = len(FNSigmoid(Concept,Negative))\n",
    "FNS"
   ]
  },
  {
   "cell_type": "code",
   "execution_count": 19,
   "metadata": {},
   "outputs": [],
   "source": [
    "TNSigmoid = lambda Pl,P2 : [(x,y) for (x,y) in Pl if Sigmoid(Y(y))<0.5 and (x,y) in P2]"
   ]
  },
  {
   "cell_type": "code",
   "execution_count": 20,
   "metadata": {},
   "outputs": [
    {
     "data": {
      "text/plain": [
       "15"
      ]
     },
     "execution_count": 20,
     "metadata": {},
     "output_type": "execute_result"
    }
   ],
   "source": [
    "# True Negative\n",
    "TNS =len(TNSigmoid(Concept,Negative))\n",
    "TNS"
   ]
  },
  {
   "cell_type": "code",
   "execution_count": 21,
   "metadata": {},
   "outputs": [
    {
     "data": {
      "text/plain": [
       "0.5"
      ]
     },
     "execution_count": 21,
     "metadata": {},
     "output_type": "execute_result"
    }
   ],
   "source": [
    "#Recall using Logistic Regression\n",
    "RecallS = Recall(len(TPS),FNS)\n",
    "RecallS"
   ]
  },
  {
   "cell_type": "code",
   "execution_count": 22,
   "metadata": {},
   "outputs": [
    {
     "data": {
      "text/plain": [
       "0.6666666666666666"
      ]
     },
     "execution_count": 22,
     "metadata": {},
     "output_type": "execute_result"
    }
   ],
   "source": [
    "#Accuracy using Logistic Regression\n",
    "AccuracyS = (len(TPS) + TNS)/len(Concept)\n",
    "AccuracyS"
   ]
  },
  {
   "cell_type": "code",
   "execution_count": 23,
   "metadata": {},
   "outputs": [
    {
     "data": {
      "text/plain": [
       "0.8797431375322491"
      ]
     },
     "execution_count": 23,
     "metadata": {},
     "output_type": "execute_result"
    }
   ],
   "source": [
    "1/(math.exp(-1.99) + 1)"
   ]
  },
  {
   "cell_type": "markdown",
   "metadata": {},
   "source": [
    "# Question 18 & 19 & 20"
   ]
  },
  {
   "cell_type": "code",
   "execution_count": 30,
   "metadata": {},
   "outputs": [],
   "source": [
    "Log = lambda x: 0 if x==0 else math.log(x)\n",
    "CrossEntropy = lambda r, y: -1*(r*Log(y) + (1-r)*Log(1-y))"
   ]
  },
  {
   "cell_type": "code",
   "execution_count": 31,
   "metadata": {},
   "outputs": [],
   "source": [
    "adjustment = lambda r,y,x: (r-y)*x\n"
   ]
  },
  {
   "cell_type": "code",
   "execution_count": 25,
   "metadata": {},
   "outputs": [],
   "source": [
    "w0,w1,w2 = (4,0,-1)\n",
    "example = (3,4)\n",
    "o = w0 + w1*example[0] +  w2*example[1]\n",
    "y = Sigmoid(o)\n",
    "r = 1"
   ]
  },
  {
   "cell_type": "code",
   "execution_count": 38,
   "metadata": {},
   "outputs": [
    {
     "name": "stdout",
     "output_type": "stream",
     "text": [
      "o:  0\n",
      "y:  0.5\n"
     ]
    }
   ],
   "source": [
    "import math\n",
    "sigmoid = lambda y: 1.0/(1+math.exp(-1*y))\n",
    "w0, w1, w2 = (4, 0, -1)\n",
    "\n",
    "example = (3,4)\n",
    "o = w0 + w1*example[0] + w2 * example[1]\n",
    "\n",
    "deltaW0,deltaW1,deltaW2 = (0,0,0)\n",
    "\n",
    "y=sigmoid(o)\n",
    "print (\"o: \", o)\n",
    "print (\"y: \",sigmoid(o))"
   ]
  },
  {
   "cell_type": "code",
   "execution_count": 39,
   "metadata": {},
   "outputs": [
    {
     "name": "stdout",
     "output_type": "stream",
     "text": [
      "adjustment weights for w0, w1 and w2 respectively are 0.5 1.5 2.0\n"
     ]
    }
   ],
   "source": [
    "deltaW0 = deltaW0 + adjustment(1,sigmoid(o),1)\n",
    "deltaW1 = deltaW1 + adjustment(1,sigmoid(o),example[0])\n",
    "deltaW2 = deltaW2 + adjustment(1,sigmoid(o),example[1])\n",
    "\n",
    "print ('adjustment weights for w0, w1 and w2 respectively are', deltaW0, deltaW1, deltaW2 )"
   ]
  }
 ],
 "metadata": {
  "kernelspec": {
   "display_name": "Python 3",
   "language": "python",
   "name": "python3"
  },
  "language_info": {
   "codemirror_mode": {
    "name": "ipython",
    "version": 3
   },
   "file_extension": ".py",
   "mimetype": "text/x-python",
   "name": "python",
   "nbconvert_exporter": "python",
   "pygments_lexer": "ipython3",
   "version": "3.7.2"
  }
 },
 "nbformat": 4,
 "nbformat_minor": 2
}
